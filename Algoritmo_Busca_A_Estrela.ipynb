{
  "nbformat": 4,
  "nbformat_minor": 0,
  "metadata": {
    "colab": {
      "name": "Algoritmo_Busca A Estrela.ipynb",
      "provenance": [],
      "include_colab_link": true
    },
    "kernelspec": {
      "name": "python3",
      "display_name": "Python 3"
    }
  },
  "cells": [
    {
      "cell_type": "markdown",
      "metadata": {
        "id": "view-in-github",
        "colab_type": "text"
      },
      "source": [
        "<a href=\"https://colab.research.google.com/github/XanRover/Algoritimo-de-busca-informada-em-python--I.A./blob/main/Algoritmo_Busca_A_Estrela.ipynb\" target=\"_parent\"><img src=\"https://colab.research.google.com/assets/colab-badge.svg\" alt=\"Open In Colab\"/></a>"
      ]
    },
    {
      "cell_type": "markdown",
      "metadata": {
        "id": "r2ZZwVzmSD9w"
      },
      "source": [
        "# Algoritmo - Busca A Estrela (A*)\n",
        "\n"
      ]
    },
    {
      "cell_type": "markdown",
      "metadata": {
        "id": "PgOWgXWsNWEr"
      },
      "source": [
        "## CLasse Vertice\n",
        "\n",
        "  Na função construtor abaixo da classe Vertice, segue os parametros dos nomes das cidades(rotulo), e a distancia ao objetivo, sendo ela a \n",
        "  função da heurística para calcular o menor custo -> f(n) = g(n) + h(n)\n",
        "  \n",
        "  Uma vez que g(n) dá o custo do caminho desde o nó inicial até o nó n e h(n) é o custo estimado do\n",
        "  caminho de menor custo de n até o objetivo, sendo esse h(n) a distância em linha reta das cidades adjacentes do nó\n",
        "  atual até o objetivo e g(n) o custo da cidade atual até as cidades adjacentes. \n",
        "\n",
        "  f(n) = custo estimado da solução de menor custo através de n."
      ]
    },
    {
      "cell_type": "code",
      "metadata": {
        "id": "37JdH3P_R-pL"
      },
      "source": [
        "class Vertice:\n",
        "\n",
        "  def __init__(self, rotulo, distancia_objetivo):\n",
        "    self.rotulo = rotulo\n",
        "    self.visitado = False\n",
        "    self.distancia_objetivo = distancia_objetivo #Heurística do método\n",
        "    self.adjacentes = []\n",
        " \n",
        "  def adiciona_adjacente(self, adjacente):\n",
        "    self.adjacentes.append(adjacente)\n",
        "\n",
        "  def mostra_adjacentes(self):\n",
        "    for i in self.adjacentes:\n",
        "      print(i.vertice.rotulo, i.custo)"
      ],
      "execution_count": null,
      "outputs": []
    },
    {
      "cell_type": "markdown",
      "source": [
        "##Classe Adjacente\n",
        "Classe das cidades adjacentes de cada nó (cidade), para verificação de um caminho com o menor custo"
      ],
      "metadata": {
        "id": "0pl1kY3sQ-Am"
      }
    },
    {
      "cell_type": "code",
      "metadata": {
        "id": "Hj4-etBV6eYP"
      },
      "source": [
        "class Adjacente:\n",
        "  def __init__(self, vertice, custo):\n",
        "    self.vertice = vertice\n",
        "    self.custo = custo #custo por ir pela estrada da cidade atual para as cidades adjacentes\n",
        "    self.distancia_aestrela = vertice.distancia_objetivo + self.custo #O cálculo da função heurístic"
      ],
      "execution_count": null,
      "outputs": []
    },
    {
      "cell_type": "markdown",
      "source": [
        "##Grafo\n",
        "Todas as cidades utilizadas, vale ressaltar que cada cidade estão com distãncias como função h(n), sendo essa a distância em linha reta da cidade objetivo. Como a cidade objetivo é Cuiabá, portanto é a distânica em linha reta da cidade de Cuiabá."
      ],
      "metadata": {
        "id": "j6cM11ICROxN"
      }
    },
    {
      "cell_type": "code",
      "metadata": {
        "id": "42axhC-b6r-L"
      },
      "source": [
        "class Grafo:\n",
        "  RosarioOeste = Vertice(\"Rosario Oeste\", 91)\n",
        "  Jangada = Vertice('Jangada', 58)\n",
        "  BarraDoBugres = Vertice('Barra do Bugres', 132)\n",
        "  Pocone = Vertice('Poconé', 97)\n",
        "  Caceres = Vertice('Cáceres', 180)\n",
        "  VarzeaGrande = Vertice('Varzea Grande', 7)\n",
        "  Cuiaba = Vertice('Cuiabá', 0)\n",
        "  ChapadaGuimaraes = Vertice('Chapada dos Guimarães', 37)\n",
        "  Jaciara = Vertice('Jaciara', 126)\n",
        "  Rondonopolis = Vertice('Rondonópolis', 183)\n",
        "  Poxoreu = Vertice('Poxoréu', 184)\n",
        "  PrimaveraLeste = Vertice('Primavera do Leste', 190)\n",
        "  CampoVerde = Vertice('Campo Verde', 97)\n",
        "  PedraPetra = Vertice('Pedra Preta', 207)\n",
        "  PontesLacerda = Vertice('Pontes e Lacerda', 352)\n",
        "  TangaraSerra = Vertice('Tangará da Serra', 185)\n",
        "  Diamantino = Vertice('Diamantino', 135)\n",
        "\n",
        "  PontesLacerda.adiciona_adjacente(Adjacente(Caceres,230))\n",
        "\n",
        "  Caceres.adiciona_adjacente(Adjacente(BarraDoBugres, 152))\n",
        "  Caceres.adiciona_adjacente(Adjacente(Jangada, 264))\n",
        "  Caceres.adiciona_adjacente(Adjacente(VarzeaGrande, 211))\n",
        "  Caceres.adiciona_adjacente(Adjacente(Pocone, 182))\n",
        "  Caceres.adiciona_adjacente(Adjacente(PontesLacerda, 230))\n",
        "\n",
        "  BarraDoBugres.adiciona_adjacente(Adjacente(TangaraSerra, 77))\n",
        "  BarraDoBugres.adiciona_adjacente(Adjacente(Diamantino, 135))\n",
        "  BarraDoBugres.adiciona_adjacente(Adjacente(RosarioOeste, 125))\n",
        "  BarraDoBugres.adiciona_adjacente(Adjacente(Jangada, 90))\n",
        "  BarraDoBugres.adiciona_adjacente(Adjacente(Caceres, 152))\n",
        "\n",
        "  TangaraSerra.adiciona_adjacente(Adjacente(Diamantino, 156))\n",
        "  TangaraSerra.adiciona_adjacente(Adjacente(BarraDoBugres, 77))\n",
        "\n",
        "  Jangada.adiciona_adjacente(Adjacente(RosarioOeste, 50))\n",
        "  Jangada.adiciona_adjacente(Adjacente(Cuiaba, 82))\n",
        "  Jangada.adiciona_adjacente(Adjacente(VarzeaGrande, 67))\n",
        "  Jangada.adiciona_adjacente(Adjacente(BarraDoBugres, 90))\n",
        "\n",
        "  RosarioOeste.adiciona_adjacente(Adjacente(Diamantino, 80))\n",
        "  RosarioOeste.adiciona_adjacente(Adjacente(Cuiaba, 102))\n",
        "  RosarioOeste.adiciona_adjacente(Adjacente(BarraDoBugres, 125))\n",
        "  RosarioOeste.adiciona_adjacente(Adjacente(Jangada, 50))\n",
        "\n",
        "  Diamantino.adiciona_adjacente(Adjacente(TangaraSerra, 156))\n",
        "  Diamantino.adiciona_adjacente(Adjacente(BarraDoBugres, 135))\n",
        "  Diamantino.adiciona_adjacente(Adjacente(RosarioOeste, 80))\n",
        "  Diamantino.adiciona_adjacente(Adjacente(Cuiaba, 182))\n",
        "\n",
        "  Pocone.adiciona_adjacente(Adjacente(Caceres, 182))\n",
        "  Pocone.adiciona_adjacente(Adjacente(VarzeaGrande, 95))\n",
        "\n",
        "  VarzeaGrande.adiciona_adjacente(Adjacente(Pocone, 95))\n",
        "  VarzeaGrande.adiciona_adjacente(Adjacente(Caceres, 211))\n",
        "  VarzeaGrande.adiciona_adjacente(Adjacente(Jangada, 67))\n",
        "  VarzeaGrande.adiciona_adjacente(Adjacente(Cuiaba, 15))\n",
        "\n",
        "  Cuiaba.adiciona_adjacente(Adjacente(VarzeaGrande, 15))\n",
        "  Cuiaba.adiciona_adjacente(Adjacente(Jangada, 82))\n",
        "  Cuiaba.adiciona_adjacente(Adjacente(RosarioOeste, 102))\n",
        "  Cuiaba.adiciona_adjacente(Adjacente(Diamantino, 182))\n",
        "  Cuiaba.adiciona_adjacente(Adjacente(ChapadaGuimaraes, 64))\n",
        "  Cuiaba.adiciona_adjacente(Adjacente(Jaciara, 145))\n",
        "\n",
        "  ChapadaGuimaraes.adiciona_adjacente(Adjacente(Cuiaba, 64))\n",
        "  ChapadaGuimaraes.adiciona_adjacente(Adjacente(CampoVerde, 72))\n",
        "\n",
        "  CampoVerde.adiciona_adjacente(Adjacente(Jaciara, 72))\n",
        "  CampoVerde.adiciona_adjacente(Adjacente(Poxoreu, 127))\n",
        "  CampoVerde.adiciona_adjacente(Adjacente(PrimaveraLeste, 105))\n",
        "\n",
        "  Jaciara.adiciona_adjacente(Adjacente(Cuiaba, 145))\n",
        "  Jaciara.adiciona_adjacente(Adjacente(CampoVerde, 72))\n",
        "  Jaciara.adiciona_adjacente(Adjacente(Poxoreu, 150))\n",
        "  Jaciara.adiciona_adjacente(Adjacente(PrimaveraLeste, 128))\n",
        "  Jaciara.adiciona_adjacente(Adjacente(Rondonopolis, 71))\n",
        "\n",
        "  Rondonopolis.adiciona_adjacente(Adjacente(Poxoreu, 85))\n",
        "  Rondonopolis.adiciona_adjacente(Adjacente(Jaciara, 71))\n",
        "  Rondonopolis.adiciona_adjacente(Adjacente(PedraPetra, 27))\n",
        "\n",
        "  PedraPetra.adiciona_adjacente(Adjacente(Rondonopolis, 27))\n",
        "  PedraPetra.adiciona_adjacente(Adjacente(Poxoreu, 115))\n",
        "\n",
        "  Poxoreu.adiciona_adjacente(Adjacente(Jaciara, 150))\n",
        "  Poxoreu.adiciona_adjacente(Adjacente(Rondonopolis, 85))\n",
        "  Poxoreu.adiciona_adjacente(Adjacente(PedraPetra, 115))\n",
        "  Poxoreu.adiciona_adjacente(Adjacente(PrimaveraLeste, 46))\n",
        "  Poxoreu.adiciona_adjacente(Adjacente(CampoVerde, 127))\n",
        "\n",
        "  PrimaveraLeste.adiciona_adjacente(Adjacente(CampoVerde, 105))\n",
        "  PrimaveraLeste.adiciona_adjacente(Adjacente(Poxoreu, 46))\n",
        "  PrimaveraLeste.adiciona_adjacente(Adjacente(Jaciara, 128))\n"
      ],
      "execution_count": null,
      "outputs": []
    },
    {
      "cell_type": "code",
      "metadata": {
        "id": "qBYjaInI-N4c"
      },
      "source": [
        "grafo = Grafo()"
      ],
      "execution_count": null,
      "outputs": []
    },
    {
      "cell_type": "markdown",
      "metadata": {
        "id": "aIjre2EzLXB0"
      },
      "source": [
        "## Vetor ordenado (adjacente)\n",
        "O vetor tem como base, deixar as cidades adjacentes de cada nó, ordenada de forma crescente dado seus resultados no cálculo da heurística"
      ]
    },
    {
      "cell_type": "code",
      "metadata": {
        "id": "bHnGlmCQLYoH"
      },
      "source": [
        "import numpy as np\n",
        "class VetorOrdenado:\n",
        "  \n",
        "  def __init__(self, capacidade):\n",
        "    self.capacidade = capacidade\n",
        "    self.ultima_posicao = -1\n",
        "    # Mudança no tipo de dados\n",
        "    self.valores = np.empty(self.capacidade, dtype=object)\n",
        "\n",
        "  # Referência para o vértice e comparação com a distância A*\n",
        "  def insere(self, adjacente):\n",
        "    if self.ultima_posicao == self.capacidade - 1:\n",
        "      print('Capacidade máxima atingida')\n",
        "      return\n",
        "    posicao = 0\n",
        "    for i in range(self.ultima_posicao + 1):\n",
        "      posicao = i\n",
        "      if self.valores[i].distancia_aestrela > adjacente.distancia_aestrela:\n",
        "        break\n",
        "      if i == self.ultima_posicao:\n",
        "        posicao = i + 1\n",
        "    x = self.ultima_posicao\n",
        "    while x >= posicao:\n",
        "      self.valores[x + 1] = self.valores[x]\n",
        "      x -= 1\n",
        "    self.valores[posicao] = adjacente\n",
        "    self.ultima_posicao += 1\n",
        "\n",
        "  def imprime(self):\n",
        "    if self.ultima_posicao == -1:\n",
        "      print('O vetor está vazio')\n",
        "    else:\n",
        "      for i in range(self.ultima_posicao + 1):\n",
        "        print(i, ' - ', self.valores[i].vertice.rotulo, ' - ', \n",
        "              self.valores[i].custo, ' - ', \n",
        "              self.valores[i].vertice.distancia_objetivo, ' - ',\n",
        "              self.valores[i].distancia_aestrela)  "
      ],
      "execution_count": null,
      "outputs": []
    },
    {
      "cell_type": "markdown",
      "metadata": {
        "id": "Lmvbw_KeNYvX"
      },
      "source": [
        "## Busca AEstrela\n",
        "Algoritmo de busca, procurando o melhor caminho com o menor custo até a cidade objetivo"
      ]
    },
    {
      "cell_type": "code",
      "metadata": {
        "id": "QyHEt5oUr8Dy"
      },
      "source": [
        "class AEstrela:\n",
        "  def __init__(self, objetivo):\n",
        "    self.objetivo = objetivo\n",
        "    self.encontrado = False\n",
        "\n",
        "  def buscar(self, atual):\n",
        "    print('----------')\n",
        "    print('Atual: {}'.format(atual.rotulo))\n",
        "    atual.visitado = True\n",
        "\n",
        "    if atual == self.objetivo:\n",
        "      self.encontrado = True\n",
        "      print('Chegou ao seu destino..')\n",
        "    else:\n",
        "      vetor_ordenado = VetorOrdenado(len(atual.adjacentes))\n",
        "      for adjacente in atual.adjacentes:\n",
        "        if adjacente.vertice.visitado == False:\n",
        "          #adjacente.vertice.visitado = True\n",
        "          vetor_ordenado.insere(adjacente)\n",
        "      vetor_ordenado.imprime()\n",
        "\n",
        "      if vetor_ordenado.valores[0] != None:\n",
        "        self.buscar(vetor_ordenado.valores[0].vertice)"
      ],
      "execution_count": null,
      "outputs": []
    },
    {
      "cell_type": "markdown",
      "source": [
        "As duas funções abaixo determina a cidade objetivo, camando a função AEstrela(grafo.Cuiaba) e traçando uma cidade de origem na função abaixo."
      ],
      "metadata": {
        "id": "X8IHFOgeR_NL"
      }
    },
    {
      "cell_type": "code",
      "source": [
        "busca_aestrela = AEstrela(grafo.Cuiaba)\n",
        "busca_aestrela.buscar(grafo.PontesLacerda)"
      ],
      "metadata": {
        "id": "-6o3I5USEqF2"
      },
      "execution_count": null,
      "outputs": []
    }
  ]
}